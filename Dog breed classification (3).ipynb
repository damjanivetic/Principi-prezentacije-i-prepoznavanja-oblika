{
 "cells": [
  {
   "cell_type": "markdown",
   "id": "e600619e",
   "metadata": {},
   "source": [
    "# Klasifikacija rasa pasa na osnovu slika"
   ]
  },
  {
   "cell_type": "markdown",
   "id": "794b379e",
   "metadata": {},
   "source": [
    "### Importovanje neophodnih biblioteka"
   ]
  },
  {
   "cell_type": "code",
   "execution_count": 1,
   "id": "74f1ba9b",
   "metadata": {},
   "outputs": [],
   "source": [
    "%matplotlib inline\n",
    "import matplotlib.pyplot as plt\n",
    "\n",
    "import tensorflow as tf\n",
    "import numpy as np\n",
    "import pandas as pd\n",
    "\n",
    "import time\n",
    "from datetime import timedelta\n",
    "\n",
    "import math\n",
    "import os\n",
    "\n",
    "import scipy.misc\n",
    "from scipy.stats import itemfreq\n",
    "from random import sample\n",
    "import pickle\n",
    "\n",
    "from tensorflow import keras\n",
    "from tensorflow.keras import layers\n",
    "from tensorflow.keras.models import Sequential\n",
    "\n",
    "from sklearn.metrics import confusion_matrix\n",
    "from sklearn.model_selection import train_test_split\n",
    "\n",
    "# Image manipulation\n",
    "import PIL.Image\n",
    "from IPython.display import display\n",
    "\n",
    "# Open a Zip File\n",
    "from zipfile import ZipFile\n",
    "from io import BytesIO"
   ]
  },
  {
   "cell_type": "markdown",
   "id": "b2216b53",
   "metadata": {},
   "source": [
    "### Otpakovanje datoteka i čuvanje slika"
   ]
  },
  {
   "cell_type": "code",
   "execution_count": 2,
   "id": "d563d6a1",
   "metadata": {},
   "outputs": [
    {
     "data": {
      "text/plain": [
       "10221"
      ]
     },
     "execution_count": 2,
     "metadata": {},
     "output_type": "execute_result"
    }
   ],
   "source": [
    "# We unzip the train and test zip file\n",
    "archive_train = ZipFile('Downloads/#6/train.zip', 'r')\n",
    "archive_test = ZipFile('Downloads/#6/test.zip', 'r')\n",
    "# This line shows the 5 first image name of the train database\n",
    "archive_train.namelist()[0:5]\n",
    "# This line shows the number of images in the train database, noted that we must remove the 1st value (column header)\n",
    "len(archive_train.namelist()[:]) - 1"
   ]
  },
  {
   "cell_type": "code",
   "execution_count": 3,
   "id": "264c5320",
   "metadata": {},
   "outputs": [],
   "source": [
    "# This function help to create  a pickle file gathering all the image from a zip folder\n",
    "def DataBase_creator(archivezip, nwidth, nheight, save_name):\n",
    "    # We choose the archive (zip file) + the new width and height for all the image which will be reshaped\n",
    "    \n",
    "    # Start-time used for printing time-usage below.\n",
    "    start_time = time.time()\n",
    "    \n",
    "    # nwidth x nheight = number of features because images have nwidth x nheight pixels\n",
    "    s = (len(archivezip.namelist()[:])-1, nwidth, nheight,3)\n",
    "    allImage = np.zeros(s)\n",
    "    for i in range(1,len(archivezip.namelist()[:])):\n",
    "        filename = BytesIO(archivezip.read(archivezip.namelist()[i]))\n",
    "        image = PIL.Image.open(filename) # open colour image\n",
    "        image = image.resize((nwidth, nheight))\n",
    "        image = np.array(image)\n",
    "        image = np.clip(image/255.0, 0.0, 1.0) # 255 = max of the value of a pixel\n",
    "        allImage[i-1]=image\n",
    "    \n",
    "    # we save the newly created data base\n",
    "    pickle.dump(allImage, open( save_name + '.p', \"wb\" ) )\n",
    "    \n",
    "    # Ending time.\n",
    "    end_time = time.time()\n",
    "    # Difference between start and end-times.\n",
    "    time_dif = end_time - start_time\n",
    "    # Print the time-usage.\n",
    "    print(\"Time usage: \" + str(timedelta(seconds=int(round(time_dif)))))"
   ]
  },
  {
   "cell_type": "code",
   "execution_count": 4,
   "id": "1d749af4",
   "metadata": {},
   "outputs": [
    {
     "name": "stdout",
     "output_type": "stream",
     "text": [
      "Time usage: 0:01:00\n",
      "Time usage: 0:00:58\n"
     ]
    }
   ],
   "source": [
    "image_resize = 60\n",
    "DataBase_creator(archivezip = archive_train, nwidth = image_resize, nheight = image_resize , save_name = \"train\")\n",
    "DataBase_creator(archivezip = archive_test, nwidth = image_resize, nheight = image_resize , save_name = \"test\")"
   ]
  },
  {
   "cell_type": "markdown",
   "id": "26c4f7db",
   "metadata": {},
   "source": [
    "### Učitavanje trening podataka"
   ]
  },
  {
   "cell_type": "code",
   "execution_count": 5,
   "id": "53a380ae",
   "metadata": {},
   "outputs": [
    {
     "data": {
      "text/plain": [
       "(10221, 60, 60, 3)"
      ]
     },
     "execution_count": 5,
     "metadata": {},
     "output_type": "execute_result"
    }
   ],
   "source": [
    "# load TRAIN\n",
    "train = pickle.load( open( \"train.p\", \"rb\" ) )\n",
    "train.shape"
   ]
  },
  {
   "cell_type": "markdown",
   "id": "03da2229",
   "metadata": {},
   "source": [
    "### Učitavanje test podataka"
   ]
  },
  {
   "cell_type": "code",
   "execution_count": 6,
   "id": "5b61af9e",
   "metadata": {},
   "outputs": [
    {
     "data": {
      "text/plain": [
       "(10356, 60, 60, 3)"
      ]
     },
     "execution_count": 6,
     "metadata": {},
     "output_type": "execute_result"
    }
   ],
   "source": [
    "# load TEST\n",
    "test = pickle.load( open( \"test.p\", \"rb\" ) )\n",
    "test.shape"
   ]
  },
  {
   "cell_type": "code",
   "execution_count": 7,
   "id": "28616175",
   "metadata": {},
   "outputs": [],
   "source": [
    "df_train =pd.read_csv('Downloads\\#6\\labels.csv')"
   ]
  },
  {
   "cell_type": "markdown",
   "id": "2610eb03",
   "metadata": {},
   "source": [
    "### Normalizacija dimenzija slika"
   ]
  },
  {
   "cell_type": "code",
   "execution_count": 8,
   "id": "8105c5a4",
   "metadata": {},
   "outputs": [],
   "source": [
    "image_resize = 60\n",
    "nwidth = image_resize\n",
    "nheight = image_resize\n",
    "\n",
    "# nwidth x nheight = number of features because images are nwidth x nheight pixels\n",
    "s = (len(df_train['breed']), nwidth, nheight,3) \n",
    "allImage = np.zeros(s)\n",
    "\n",
    "i = 0\n",
    "for f, breed in df_train.values:\n",
    "    image = PIL.Image.open('Downloads/#6/train/{}.jpg'.format(f))\n",
    "    image = image.resize((nwidth, nheight))\n",
    "    image = np.array(image)\n",
    "    image = np.clip(image/255.0, 0.0, 1.0) # 255 = max of the value of a pixel\n",
    "    i += 1\n",
    "    allImage[i-1]=image\n",
    "\n",
    "    train = allImage"
   ]
  },
  {
   "cell_type": "markdown",
   "id": "9cf04968",
   "metadata": {},
   "source": [
    "### Prikaz jedne od slika"
   ]
  },
  {
   "cell_type": "code",
   "execution_count": 9,
   "id": "ae5eaa4e",
   "metadata": {},
   "outputs": [
    {
     "data": {
      "image/png": "[encoded data removed]",
      "text/plain": [
       "<Figure size 432x288 with 1 Axes>"
      ]
     },
     "metadata": {
      "needs_background": "light"
     },
     "output_type": "display_data"
    }
   ],
   "source": [
    "lum_img = train[0,:,:,:]\n",
    "plt.imshow(lum_img)\n",
    "plt.show()"
   ]
  },
  {
   "cell_type": "markdown",
   "id": "7480cc0e",
   "metadata": {},
   "source": [
    "### Prikaz izgleda tabele"
   ]
  },
  {
   "cell_type": "code",
   "execution_count": 10,
   "id": "4879a407",
   "metadata": {},
   "outputs": [
    {
     "data": {
      "text/html": [
       "<div>\n",
       "<style scoped>\n",
       "    .dataframe tbody tr th:only-of-type {\n",
       "        vertical-align: middle;\n",
       "    }\n",
       "\n",
       "    .dataframe tbody tr th {\n",
       "        vertical-align: top;\n",
       "    }\n",
       "\n",
       "    .dataframe thead th {\n",
       "        text-align: right;\n",
       "    }\n",
       "</style>\n",
       "<table border=\"1\" class=\"dataframe\">\n",
       "  <thead>\n",
       "    <tr style=\"text-align: right;\">\n",
       "      <th></th>\n",
       "      <th>id</th>\n",
       "      <th>breed</th>\n",
       "    </tr>\n",
       "  </thead>\n",
       "  <tbody>\n",
       "    <tr>\n",
       "      <th>3450</th>\n",
       "      <td>55d9a7a44cf8b0791276bc94a57e648a</td>\n",
       "      <td>border_terrier</td>\n",
       "    </tr>\n",
       "    <tr>\n",
       "      <th>3815</th>\n",
       "      <td>5e7623086296cd0a772170bac48381b3</td>\n",
       "      <td>vizsla</td>\n",
       "    </tr>\n",
       "    <tr>\n",
       "      <th>7240</th>\n",
       "      <td>b55cbc70edb5bbcb907ab4969283d9fa</td>\n",
       "      <td>malamute</td>\n",
       "    </tr>\n",
       "    <tr>\n",
       "      <th>4634</th>\n",
       "      <td>73cb81b201c9ea7bb90ba3da50ddd960</td>\n",
       "      <td>saluki</td>\n",
       "    </tr>\n",
       "    <tr>\n",
       "      <th>3156</th>\n",
       "      <td>4dfaa8dee5203f7d0d4c29a684627abc</td>\n",
       "      <td>toy_poodle</td>\n",
       "    </tr>\n",
       "  </tbody>\n",
       "</table>\n",
       "</div>"
      ],
      "text/plain": [
       "                                    id           breed\n",
       "3450  55d9a7a44cf8b0791276bc94a57e648a  border_terrier\n",
       "3815  5e7623086296cd0a772170bac48381b3          vizsla\n",
       "7240  b55cbc70edb5bbcb907ab4969283d9fa        malamute\n",
       "4634  73cb81b201c9ea7bb90ba3da50ddd960          saluki\n",
       "3156  4dfaa8dee5203f7d0d4c29a684627abc      toy_poodle"
      ]
     },
     "execution_count": 10,
     "metadata": {},
     "output_type": "execute_result"
    }
   ],
   "source": [
    "labels_raw = pd.read_csv('Downloads\\#6\\labels.csv', header=0, sep=',', quotechar='\"')\n",
    "labels_raw.sample(5)"
   ]
  },
  {
   "cell_type": "markdown",
   "id": "e4533957",
   "metadata": {},
   "source": [
    "### Filtriranje najčešćih rasa"
   ]
  },
  {
   "cell_type": "code",
   "execution_count": 11,
   "id": "75520c68",
   "metadata": {},
   "outputs": [
    {
     "name": "stdout",
     "output_type": "stream",
     "text": [
      "- Number of images remaining after selecting the 8 main breeds : (922,)\n",
      "- The shape of train_filtered dataset is : (922, 60, 60, 3)\n"
     ]
    },
    {
     "name": "stderr",
     "output_type": "stream",
     "text": [
      "C:\\Users\\ASUS ROG\\AppData\\Local\\Temp\\ipykernel_10292\\829414158.py:5: DeprecationWarning: `itemfreq` is deprecated!\n",
      "`itemfreq` is deprecated and will be removed in a future version. Use instead `np.unique(..., return_counts=True)`\n",
      "  labels_freq_pd = itemfreq(labels_raw[\"breed\"])\n"
     ]
    }
   ],
   "source": [
    "Nber_of_breeds = 8\n",
    "\n",
    "# Get the N most represented breeds\n",
    "def main_breeds(labels_raw, Nber_breeds , all_breeds='TRUE'):\n",
    "    labels_freq_pd = itemfreq(labels_raw[\"breed\"])\n",
    "    labels_freq_pd = labels_freq_pd[labels_freq_pd[:, 1].argsort()[::-1]]\n",
    "    \n",
    "    if all_breeds == 'FALSE':\n",
    "        main_labels = labels_freq_pd[:,0][0:Nber_breeds]\n",
    "    else: \n",
    "        main_labels = labels_freq_pd[:,0][:]\n",
    "        \n",
    "    labels_raw_np = labels_raw[\"breed\"].to_numpy()\n",
    "    labels_raw_np = labels_raw_np.reshape(labels_raw_np.shape[0],1)\n",
    "    labels_filtered_index = np.where(labels_raw_np == main_labels)\n",
    "    return labels_filtered_index\n",
    "\n",
    "labels_filtered_index = main_breeds(labels_raw = labels_raw, Nber_breeds = Nber_of_breeds, all_breeds='FALSE')\n",
    "labels_filtered = labels_raw.iloc[labels_filtered_index[0],:]\n",
    "train_filtered = train[labels_filtered_index[0],:,:,:]\n",
    "print('- Number of images remaining after selecting the {0} main breeds : {1}'.format(Nber_of_breeds, labels_filtered_index[0].shape))\n",
    "print('- The shape of train_filtered dataset is : {0}'.format(train_filtered.shape))"
   ]
  },
  {
   "cell_type": "code",
   "execution_count": 12,
   "id": "9af58ccc",
   "metadata": {},
   "outputs": [
    {
     "data": {
      "image/png": "[encoded data removed]",
      "text/plain": [
       "<Figure size 432x288 with 1 Axes>"
      ]
     },
     "metadata": {
      "needs_background": "light"
     },
     "output_type": "display_data"
    }
   ],
   "source": [
    "lum_img = train_filtered[1,:,:,:]\n",
    "plt.imshow(lum_img)\n",
    "plt.show()"
   ]
  },
  {
   "cell_type": "code",
   "execution_count": 13,
   "id": "8d368a54",
   "metadata": {},
   "outputs": [
    {
     "data": {
      "text/plain": [
       "(922, 1)"
      ]
     },
     "execution_count": 13,
     "metadata": {},
     "output_type": "execute_result"
    }
   ],
   "source": [
    "# We select the labels from the N main breeds\n",
    "labels = labels_filtered[\"breed\"].to_numpy()\n",
    "labels = labels.reshape(labels.shape[0],1) #labels.shape[0] looks faster than using len(labels)\n",
    "labels.shape"
   ]
  },
  {
   "cell_type": "markdown",
   "id": "29e06b01",
   "metadata": {},
   "source": [
    "### Enkodiranje naziva rasa"
   ]
  },
  {
   "cell_type": "code",
   "execution_count": 14,
   "id": "58e04cdd",
   "metadata": {},
   "outputs": [],
   "source": [
    "# Function to create one-hot labels\n",
    "def matrix_Bin(labels):\n",
    "    labels_bin=np.array([])\n",
    "\n",
    "    labels_name, labels0 = np.unique(labels, return_inverse=True)\n",
    "    labels0\n",
    "    \n",
    "    for _, i in enumerate(itemfreq(labels0)[:,0].astype(int)):\n",
    "        labels_bin0 = np.where(labels0 == itemfreq(labels0)[:,0][i], 1., 0.)\n",
    "        labels_bin0 = labels_bin0.reshape(1,labels_bin0.shape[0])\n",
    "\n",
    "        if (labels_bin.shape[0] == 0):\n",
    "            labels_bin = labels_bin0\n",
    "        else:\n",
    "            labels_bin = np.concatenate((labels_bin,labels_bin0 ),axis=0)\n",
    "\n",
    "    print(\"Nber SubVariables {0}\".format(itemfreq(labels0)[:,0].shape[0]))\n",
    "    labels_bin = labels_bin.transpose()\n",
    "    print(\"Shape : {0}\".format(labels_bin.shape))\n",
    "    \n",
    "    return labels_name, labels_bin"
   ]
  },
  {
   "cell_type": "code",
   "execution_count": 15,
   "id": "d62b1ddd",
   "metadata": {},
   "outputs": [
    {
     "name": "stdout",
     "output_type": "stream",
     "text": [
      "Nber SubVariables 8\n",
      "Shape : (922, 8)\n"
     ]
    },
    {
     "name": "stderr",
     "output_type": "stream",
     "text": [
      "C:\\Users\\ASUS ROG\\AppData\\Local\\Temp\\ipykernel_10292\\1686666457.py:8: DeprecationWarning: `itemfreq` is deprecated!\n",
      "`itemfreq` is deprecated and will be removed in a future version. Use instead `np.unique(..., return_counts=True)`\n",
      "  for _, i in enumerate(itemfreq(labels0)[:,0].astype(int)):\n",
      "C:\\Users\\ASUS ROG\\AppData\\Local\\Temp\\ipykernel_10292\\1686666457.py:9: DeprecationWarning: `itemfreq` is deprecated!\n",
      "`itemfreq` is deprecated and will be removed in a future version. Use instead `np.unique(..., return_counts=True)`\n",
      "  labels_bin0 = np.where(labels0 == itemfreq(labels0)[:,0][i], 1., 0.)\n",
      "C:\\Users\\ASUS ROG\\AppData\\Local\\Temp\\ipykernel_10292\\1686666457.py:17: DeprecationWarning: `itemfreq` is deprecated!\n",
      "`itemfreq` is deprecated and will be removed in a future version. Use instead `np.unique(..., return_counts=True)`\n",
      "  print(\"Nber SubVariables {0}\".format(itemfreq(labels0)[:,0].shape[0]))\n"
     ]
    },
    {
     "data": {
      "text/plain": [
       "array([[0., 0., 0., 0., 0., 0., 1., 0.],\n",
       "       [0., 0., 0., 0., 1., 0., 0., 0.],\n",
       "       [0., 0., 0., 0., 0., 0., 0., 1.],\n",
       "       [0., 0., 0., 0., 0., 0., 1., 0.],\n",
       "       [0., 0., 1., 0., 0., 0., 0., 0.],\n",
       "       [0., 0., 1., 0., 0., 0., 0., 0.],\n",
       "       [0., 0., 0., 0., 1., 0., 0., 0.],\n",
       "       [0., 1., 0., 0., 0., 0., 0., 0.],\n",
       "       [0., 0., 1., 0., 0., 0., 0., 0.]])"
      ]
     },
     "execution_count": 15,
     "metadata": {},
     "output_type": "execute_result"
    }
   ],
   "source": [
    "labels_name, labels_bin = matrix_Bin(labels = labels)\n",
    "labels_bin[0:9]"
   ]
  },
  {
   "cell_type": "markdown",
   "id": "46d75e0e",
   "metadata": {},
   "source": [
    "### Prikaz 4 najčešće rasa u modelu"
   ]
  },
  {
   "cell_type": "code",
   "execution_count": 16,
   "id": "76da5eab",
   "metadata": {},
   "outputs": [
    {
     "name": "stdout",
     "output_type": "stream",
     "text": [
      "Breed 0 : afghan_hound\n",
      "Breed 1 : bernese_mountain_dog\n",
      "Breed 2 : entlebucher\n",
      "Breed 3 : great_pyrenees\n",
      "Breed 4 : maltese_dog\n",
      "Breed 5 : pomeranian\n",
      "Breed 6 : scottish_deerhound\n",
      "Breed 7 : shih-tzu\n"
     ]
    }
   ],
   "source": [
    "for breed in range(len(labels_name)):\n",
    "   print('Breed {0} : {1}'.format(breed,labels_name[breed]))"
   ]
  },
  {
   "cell_type": "markdown",
   "id": "9af61360",
   "metadata": {},
   "source": [
    "### Podela na trening i validacione podatke"
   ]
  },
  {
   "cell_type": "code",
   "execution_count": 17,
   "id": "2b45f7dc",
   "metadata": {},
   "outputs": [],
   "source": [
    "num_validation = 0.30\n",
    "X_train, X_validation, y_train, y_validation = train_test_split(train_filtered, labels_bin, test_size=num_validation, random_state=6)"
   ]
  },
  {
   "cell_type": "code",
   "execution_count": 18,
   "id": "40dcf9bf",
   "metadata": {},
   "outputs": [
    {
     "data": {
      "text/plain": [
       "array([5, 1, 5, 6, 7, 2, 5, 1, 1], dtype=int64)"
      ]
     },
     "execution_count": 18,
     "metadata": {},
     "output_type": "execute_result"
    }
   ],
   "source": [
    "def train_test_creation(x, data, toPred): \n",
    "  indices = sample(range(data.shape[0]),int(x * data.shape[0])) \n",
    "  indices = np.sort(indices, axis=None) \n",
    "  \n",
    "  index = np.arange(data.shape[0]) \n",
    "  reverse_index = np.delete(index, indices,0)\n",
    "  \n",
    "  train_toUse = data[indices]\n",
    "  train_toPred = toPred[indices]\n",
    "  test_toUse = data[reverse_index]\n",
    "  test_toPred = toPred[reverse_index]\n",
    "\n",
    "  return train_toUse, train_toPred, test_toUse, test_toPred\n",
    "\n",
    "df_train_toUse, df_train_toPred, df_test_toUse, df_test_toPred = train_test_creation(0.7, train_filtered, labels_bin)\n",
    "\n",
    "df_validation_toPred_cls = np.argmax(y_validation, axis=1)\n",
    "df_validation_toPred_cls[0:9]"
   ]
  },
  {
   "cell_type": "markdown",
   "id": "684ce04b",
   "metadata": {},
   "source": [
    "### Definisanje konstanti i težinskih faktora"
   ]
  },
  {
   "cell_type": "code",
   "execution_count": 19,
   "id": "706c783b",
   "metadata": {},
   "outputs": [],
   "source": [
    "# Our images are 100 pixels in each dimension.\n",
    "img_size = image_resize\n",
    "\n",
    "# Number of colour channels for the images: 3\n",
    "num_channels = 3\n",
    "\n",
    "# Images are stored in one-dimensional arrays of this length.\n",
    "img_size_flat = img_size * img_size\n",
    "\n",
    "# Image Shape\n",
    "img_shape = (img_size, img_size, num_channels)\n",
    "\n",
    "# Number of classes : 5 breeds\n",
    "num_classes = Nber_of_breeds\n",
    "\n",
    "def new_weights(shape):\n",
    "    return tf.Variable(tf.truncated_normal(shape, stddev=0.05))\n",
    "    #outputs random value from a truncated normal distribution\n",
    "\n",
    "def new_biases(length):\n",
    "    return tf.Variable(tf.constant(0.05, shape=[length]))\n",
    "    #outputs the constant value 0.05"
   ]
  },
  {
   "cell_type": "markdown",
   "id": "67f419a3",
   "metadata": {},
   "source": [
    "### Definisanje konvolucionog sloja"
   ]
  },
  {
   "cell_type": "code",
   "execution_count": 20,
   "id": "2aadd1ee",
   "metadata": {},
   "outputs": [],
   "source": [
    "def new_conv_layer(input,              # The previous layer.\n",
    "                   num_input_channels, # Num. channels in prev. layer.\n",
    "                   filter_size,        # Width and height of each filter.\n",
    "                   num_filters,        # Number of filters.\n",
    "                   use_pooling=True,\n",
    "                   use_dropout=True):  # Use 2x2 max-pooling.\n",
    "\n",
    "    # Shape of the filter-weights for the convolution.\n",
    "    # This format is determined by the TensorFlow API.\n",
    "    shape = [filter_size, filter_size, num_input_channels, num_filters]\n",
    "\n",
    "    # Create new weights aka. filters with the given shape.\n",
    "    weights = new_weights(shape=shape)\n",
    "\n",
    "    # Create new biases, one for each filter.\n",
    "    biases = new_biases(length=num_filters)\n",
    "\n",
    "    # Create the TensorFlow operation for convolution.\n",
    "    # Note the strides are set to 1 in all dimensions.\n",
    "    # The first and last stride must always be 1,\n",
    "    # because the first is for the image-number and\n",
    "    # the last is for the input-channel.\n",
    "    # But e.g. strides=[1, 2, 2, 1] would mean that the filter\n",
    "    # is moved 2 pixels across the x- and y-axis of the image.\n",
    "    # The padding is set to 'SAME' which means the input image\n",
    "    # is padded with zeroes so the size of the output is the same.\n",
    "    layer = tf.nn.conv2d(input=input,\n",
    "                         filter=weights,\n",
    "                         strides=[1, 1, 1, 1],\n",
    "                         padding='SAME')\n",
    "\n",
    "    # Add the biases to the results of the convolution.\n",
    "    # A bias-value is added to each filter-channel.\n",
    "    layer += biases\n",
    "\n",
    "    # Use pooling to down-sample the image resolution?\n",
    "    if use_pooling:\n",
    "        # This is 2x2 max-pooling, which means that we\n",
    "        # consider 2x2 windows and select the largest value\n",
    "        # in each window. Then we move 2 pixels to the next window.\n",
    "        layer = tf.nn.max_pool(value=layer,\n",
    "                               ksize=[1, 2, 2, 1],\n",
    "                               strides=[1, 2, 2, 1],\n",
    "                               padding='SAME')\n",
    "\n",
    "    # Rectified Linear Unit (ReLU).\n",
    "    # It calculates max(x, 0) for each input pixel x.\n",
    "    # This adds some non-linearity to the formula and allows us\n",
    "    # to learn more complicated functions.\n",
    "    layer = tf.nn.relu(layer)\n",
    "    \n",
    "    if use_dropout:\n",
    "        layer = tf.nn.dropout(layer,keep_prob_conv)\n",
    "\n",
    "    # Note that ReLU is normally executed before the pooling,\n",
    "    # but since relu(max_pool(x)) == max_pool(relu(x)) we can\n",
    "    # save 75% of the relu-operations by max-pooling first.\n",
    "\n",
    "    # We return both the resulting layer and the filter-weights\n",
    "    # because we will plot the weights later.\n",
    "    return layer, weights"
   ]
  },
  {
   "cell_type": "markdown",
   "id": "bcd2ebcb",
   "metadata": {},
   "source": [
    "### Definisanje flatten sloja"
   ]
  },
  {
   "cell_type": "code",
   "execution_count": 21,
   "id": "56f315f0",
   "metadata": {},
   "outputs": [],
   "source": [
    "def flatten_layer(layer):\n",
    "    # Get the shape of the input layer.\n",
    "    layer_shape = layer.get_shape()\n",
    "\n",
    "    # The shape of the input layer is assumed to be:\n",
    "    # layer_shape == [num_images, img_height, img_width, num_channels]\n",
    "\n",
    "    # The number of features is: img_height * img_width * num_channels\n",
    "    # We can use a function from TensorFlow to calculate this.\n",
    "    num_features = layer_shape[1:4].num_elements()\n",
    "    \n",
    "    # Reshape the layer to [num_images, num_features].\n",
    "    # Note that we just set the size of the second dimension\n",
    "    # to num_features and the size of the first dimension to -1\n",
    "    # which means the size in that dimension is calculated\n",
    "    # so the total size of the tensor is unchanged from the reshaping.\n",
    "    layer_flat = tf.reshape(layer, [-1, num_features])\n",
    "\n",
    "    # The shape of the flattened layer is now:\n",
    "    # [num_images, img_height * img_width * num_channels]\n",
    "\n",
    "    # Return both the flattened layer and the number of features.\n",
    "    return layer_flat, num_features"
   ]
  },
  {
   "cell_type": "markdown",
   "id": "44d3268e",
   "metadata": {},
   "source": [
    "### Definisanje potpuno povezanog sloja"
   ]
  },
  {
   "cell_type": "code",
   "execution_count": 22,
   "id": "2ab44ee9",
   "metadata": {},
   "outputs": [],
   "source": [
    "def new_fc_layer(input,          # The previous layer.\n",
    "                 num_inputs,     # Num. inputs from prev. layer.\n",
    "                 num_outputs,    # Num. outputs.\n",
    "                 use_relu=True,\n",
    "                 use_dropout=True): # Use Rectified Linear Unit (ReLU)?\n",
    "\n",
    "    # Create new weights and biases.\n",
    "    weights = new_weights(shape=[num_inputs, num_outputs])\n",
    "    biases = new_biases(length=num_outputs)\n",
    "\n",
    "    # Calculate the layer as the matrix multiplication of\n",
    "    # the input and weights, and then add the bias-values.\n",
    "    layer = tf.matmul(input, weights) + biases\n",
    "\n",
    "    # Use ReLU?\n",
    "    if use_relu:\n",
    "        layer = tf.nn.relu(layer)\n",
    "    \n",
    "    if use_dropout:\n",
    "        layer = tf.nn.dropout(layer,keep_prob_fc)\n",
    "        \n",
    "    return layer"
   ]
  },
  {
   "cell_type": "markdown",
   "id": "e7fa7540",
   "metadata": {},
   "source": [
    "### Podešavanje tensorflow placeholder-a"
   ]
  },
  {
   "cell_type": "code",
   "execution_count": 23,
   "id": "3b0b94ae",
   "metadata": {},
   "outputs": [
    {
     "name": "stdout",
     "output_type": "stream",
     "text": [
      "WARNING:tensorflow:From C:\\Users\\ASUS ROG\\anaconda3\\lib\\site-packages\\tensorflow\\python\\compat\\v2_compat.py:107: disable_resource_variables (from tensorflow.python.ops.variable_scope) is deprecated and will be removed in a future version.\n",
      "Instructions for updating:\n",
      "non-resource variables are not supported in the long term\n"
     ]
    }
   ],
   "source": [
    "import tensorflow.compat.v1 as tf\n",
    "tf.disable_v2_behavior()"
   ]
  },
  {
   "cell_type": "code",
   "execution_count": 24,
   "id": "6b6486af",
   "metadata": {},
   "outputs": [],
   "source": [
    "x = tf.placeholder(tf.float32, shape=[None, img_size, img_size, num_channels], name='x')\n",
    "x_image = tf.reshape(x, [-1, img_size, img_size, num_channels]) #-1 put everything as 1 array\n",
    "y_true = tf.placeholder(tf.float32, shape=[None, num_classes], name='y_true')\n",
    "y_true_cls = tf.argmax(y_true, axis=1)\n",
    "keep_prob_fc=tf.placeholder(tf.float32)\n",
    "keep_prob_conv=tf.placeholder(tf.float32)"
   ]
  },
  {
   "cell_type": "markdown",
   "id": "73c3c335",
   "metadata": {},
   "source": [
    "### Dizajn slojeva neuronske mreže"
   ]
  },
  {
   "cell_type": "code",
   "execution_count": 25,
   "id": "465bd58b",
   "metadata": {},
   "outputs": [
    {
     "name": "stdout",
     "output_type": "stream",
     "text": [
      "WARNING:tensorflow:From C:\\Users\\ASUS ROG\\anaconda3\\lib\\site-packages\\tensorflow\\python\\util\\dispatch.py:1082: calling dropout (from tensorflow.python.ops.nn_ops) with keep_prob is deprecated and will be removed in a future version.\n",
      "Instructions for updating:\n",
      "Please use `rate` instead of `keep_prob`. Rate should be set to `rate = 1 - keep_prob`.\n"
     ]
    }
   ],
   "source": [
    "# Convolutional Layer 1.\n",
    "filter_size1 = 5          # Convolution filters are 5 x 5 pixels.\n",
    "num_filters1 = 32         # There are 32 of these filters.\n",
    "\n",
    "\n",
    "# Convolutional Layer 2.\n",
    "filter_size2 = 4          # Convolution filters are 4 x 4 pixels.\n",
    "num_filters2 = 64      # There are 64 of these filters.\n",
    "\n",
    "\n",
    "# Convolutional Layer 3.\n",
    "filter_size3 = 3          # Convolution filters are 3 x 3 pixels.\n",
    "num_filters3 = 128      # There are 128 of these filters.\n",
    "\n",
    "\n",
    "# Fully-connected layer.\n",
    "fc_size = 500 \n",
    "\n",
    "\n",
    "layer_conv1, weights_conv1 = \\\n",
    "    new_conv_layer(input=x_image,\n",
    "                   num_input_channels=num_channels,\n",
    "                   filter_size=filter_size1,\n",
    "                   num_filters=num_filters1,\n",
    "                   use_pooling=True,\n",
    "                   use_dropout=False)\n",
    "    \n",
    "layer_conv2, weights_conv2 = \\\n",
    "    new_conv_layer(input=layer_conv1,\n",
    "                   num_input_channels=num_filters1,\n",
    "                   filter_size=filter_size2,\n",
    "                   num_filters=num_filters2,\n",
    "                   use_pooling=True,\n",
    "                   use_dropout=False)\n",
    "    \n",
    "layer_conv3, weights_conv3 = \\\n",
    "    new_conv_layer(input=layer_conv2,\n",
    "                   num_input_channels=num_filters2,\n",
    "                   filter_size=filter_size3,\n",
    "                   num_filters=num_filters3,\n",
    "                   use_pooling=True,\n",
    "                   use_dropout=True)\n",
    "\n",
    "layer_flat, num_features = flatten_layer(layer_conv3)\n",
    "\n",
    "#Train\n",
    "layer_fc1 = new_fc_layer(input=layer_flat,\n",
    "                         num_inputs=num_features,\n",
    "                         num_outputs=fc_size,\n",
    "                         use_relu=True,\n",
    "                         use_dropout=True)\n",
    "\n",
    "layer_fc2 = new_fc_layer(input=layer_fc1,\n",
    "                         num_inputs=fc_size,\n",
    "                         num_outputs=num_classes,\n",
    "                         use_relu=False,\n",
    "                         use_dropout=False)\n",
    "\n",
    "#Prediction\n",
    "y_pred = tf.nn.softmax(layer_fc2)\n",
    "y_pred_cls = tf.argmax(y_pred, axis=1)"
   ]
  },
  {
   "cell_type": "markdown",
   "id": "06040b1e",
   "metadata": {},
   "source": [
    "### Definisanje funkcije gubitka"
   ]
  },
  {
   "cell_type": "code",
   "execution_count": 26,
   "id": "782809fe",
   "metadata": {},
   "outputs": [
    {
     "name": "stdout",
     "output_type": "stream",
     "text": [
      "WARNING:tensorflow:From C:\\Users\\ASUS ROG\\anaconda3\\lib\\site-packages\\tensorflow\\python\\util\\dispatch.py:1082: softmax_cross_entropy_with_logits (from tensorflow.python.ops.nn_ops) is deprecated and will be removed in a future version.\n",
      "Instructions for updating:\n",
      "\n",
      "Future major versions of TensorFlow will allow gradients to flow\n",
      "into the labels input on backprop by default.\n",
      "\n",
      "See `tf.nn.softmax_cross_entropy_with_logits_v2`.\n",
      "\n"
     ]
    }
   ],
   "source": [
    "cross_entropy = tf.nn.softmax_cross_entropy_with_logits(logits=layer_fc2, labels=y_true)\n",
    "cost = tf.reduce_mean(cross_entropy)\n",
    "optimizer = tf.train.AdamOptimizer(learning_rate=1e-4).minimize(cost)\n",
    "correct_prediction = tf.equal(y_pred_cls, y_true_cls)\n",
    "accuracy = tf.reduce_mean(tf.cast(correct_prediction, tf.float32))"
   ]
  },
  {
   "cell_type": "markdown",
   "id": "35a6c5da",
   "metadata": {},
   "source": [
    "### Treniranje modela"
   ]
  },
  {
   "cell_type": "code",
   "execution_count": 27,
   "id": "f66398af",
   "metadata": {},
   "outputs": [],
   "source": [
    "session = tf.Session()\n",
    "def init_variables():\n",
    "   session.run(tf.global_variables_initializer())"
   ]
  },
  {
   "cell_type": "markdown",
   "id": "2f259844",
   "metadata": {},
   "source": [
    "### Kreiranje batch-ova za treniranje"
   ]
  },
  {
   "cell_type": "code",
   "execution_count": 28,
   "id": "74079213",
   "metadata": {},
   "outputs": [],
   "source": [
    "batch_size = 50\n",
    "\n",
    "#function next_batch\n",
    "def next_batch(num, data, labels):\n",
    "    '''\n",
    "    Return a total of `num` random samples and labels. \n",
    "    '''\n",
    "    idx = np.arange(0 , len(data))\n",
    "    np.random.shuffle(idx)\n",
    "    idx = idx[:num]\n",
    "    data_shuffle = [data[i] for i in idx]\n",
    "    labels_shuffle = [labels[i] for i in idx]\n",
    "\n",
    "\n",
    "    return np.asarray(data_shuffle), np.asarray(labels_shuffle)"
   ]
  },
  {
   "cell_type": "code",
   "execution_count": 29,
   "id": "863c6c06",
   "metadata": {},
   "outputs": [],
   "source": [
    "def optimize(num_iterations, X):\n",
    "    global total_iterations\n",
    "    \n",
    "    start_time = time.time()\n",
    "    \n",
    "    #array to plot\n",
    "    losses = {'train':[], 'validation':[]}\n",
    "    \n",
    "    for i in range(num_iterations):\n",
    "            total_iterations += 1\n",
    "            # Get a batch of training examples.\n",
    "            # x_batch now holds a batch of images and\n",
    "            # y_true_batch are the true labels for those images.\n",
    "            x_batch, y_true_batch = next_batch(batch_size, X_train, y_train)\n",
    "\n",
    "\n",
    "            # Put the batch into a dict with the proper names\n",
    "            # for placeholder variables in the TensorFlow graph.\n",
    "            feed_dict_train = {x: x_batch,\n",
    "                               y_true: y_true_batch,\n",
    "                               keep_prob_conv : 0.3,\n",
    "                               keep_prob_fc : 0.4}\n",
    "            feed_dict_validation = {x: X_validation,\n",
    "                               y_true: y_validation,\n",
    "                               keep_prob_conv : 1,\n",
    "                               keep_prob_fc : 1}\n",
    "            \n",
    "            # Run the optimizer using this batch of training data.\n",
    "            # TensorFlow assigns the variables in feed_dict_train\n",
    "            # to the placeholder variables and then runs the optimizer.\n",
    "            session.run(optimizer, feed_dict=feed_dict_train)\n",
    "            \n",
    "            acc_train = session.run(accuracy, feed_dict=feed_dict_train)\n",
    "            acc_validation = session.run(accuracy, feed_dict=feed_dict_validation)\n",
    "            losses['train'].append(acc_train)\n",
    "            losses['validation'].append(acc_validation)\n",
    "            \n",
    "            # Print status every X iterations.\n",
    "            if (total_iterations % X == 0) or (i ==(num_iterations -1)):\n",
    "            # Calculate the accuracy on the training-set.\n",
    "                                \n",
    "                msg = \"Iteration: {0:>6}, Training Accuracy: {1:>6.1%}, Validation Accuracy: {2:>6.1%}\"\n",
    "                print(msg.format(total_iterations, acc_train, acc_validation))\n",
    "                \n",
    "    \n",
    "    # Ending time.\n",
    "    end_time = time.time()\n",
    "\n",
    "\n",
    "    # Difference between start and end-times.\n",
    "    time_dif = end_time - start_time\n",
    "\n",
    "\n",
    "    # Print the time-usage.\n",
    "    print(\"Time usage: \" + str(timedelta(seconds=int(round(time_dif)))))\n",
    "    \n",
    "    plt.plot(losses['train'], label='Training loss')\n",
    "    plt.plot(losses['validation'], label='Validation loss')\n",
    "    plt.legend()\n",
    "    _ = plt.ylim()"
   ]
  },
  {
   "cell_type": "code",
   "execution_count": 30,
   "id": "a8a7279c",
   "metadata": {},
   "outputs": [
    {
     "name": "stdout",
     "output_type": "stream",
     "text": [
      "Iteration:    250, Training Accuracy:  30.0%, Validation Accuracy:  34.3%\n",
      "Iteration:    500, Training Accuracy:  38.0%, Validation Accuracy:  38.3%\n",
      "Iteration:    750, Training Accuracy:  54.0%, Validation Accuracy:  44.0%\n",
      "Iteration:   1000, Training Accuracy:  66.0%, Validation Accuracy:  40.4%\n",
      "Iteration:   1250, Training Accuracy:  72.0%, Validation Accuracy:  42.2%\n",
      "Iteration:   1500, Training Accuracy:  82.0%, Validation Accuracy:  41.5%\n",
      "Iteration:   1750, Training Accuracy:  86.0%, Validation Accuracy:  42.2%\n",
      "Iteration:   2000, Training Accuracy:  90.0%, Validation Accuracy:  39.0%\n",
      "Iteration:   2250, Training Accuracy:  94.0%, Validation Accuracy:  40.4%\n",
      "Iteration:   2500, Training Accuracy: 100.0%, Validation Accuracy:  39.7%\n",
      "Iteration:   2750, Training Accuracy:  96.0%, Validation Accuracy:  41.2%\n",
      "Iteration:   3000, Training Accuracy:  96.0%, Validation Accuracy:  43.3%\n",
      "Iteration:   3250, Training Accuracy:  96.0%, Validation Accuracy:  41.2%\n",
      "Iteration:   3500, Training Accuracy:  98.0%, Validation Accuracy:  40.4%\n",
      "Time usage: 0:37:56\n"
     ]
    },
    {
     "data": {
      "image/png": "[encoded data removed]",
      "text/plain": [
       "<Figure size 432x288 with 1 Axes>"
      ]
     },
     "metadata": {
      "needs_background": "light"
     },
     "output_type": "display_data"
    }
   ],
   "source": [
    "init_variables()\n",
    "total_iterations = 0\n",
    "optimize(num_iterations=3500, X=250)"
   ]
  },
  {
   "cell_type": "markdown",
   "id": "4a66fdb5",
   "metadata": {},
   "source": [
    "### Definisanje metoda za prikaz rezultata"
   ]
  },
  {
   "cell_type": "code",
   "execution_count": 31,
   "id": "3d93c4b6",
   "metadata": {},
   "outputs": [],
   "source": [
    "def plot_images(images, cls_true, cls_pred=None):\n",
    "    assert len(images) == len(cls_true) == 12\n",
    "    \n",
    "    # Create figure with 3x3 sub-plots.\n",
    "    fig, axes = plt.subplots(4, 3)\n",
    "    fig.subplots_adjust(hspace=0.3, wspace=0.3)\n",
    "\n",
    "\n",
    "    for i, ax in enumerate(axes.flat):\n",
    "        # Plot image.\n",
    "        ax.imshow(images[i].reshape(img_shape), cmap='binary')\n",
    "\n",
    "\n",
    "        # Show true and predicted classes.\n",
    "        if cls_pred is None:\n",
    "            xlabel = \"True: {0}\".format(cls_true[i])\n",
    "        else:\n",
    "            xlabel = \"True: {0}, Pred: {1}\".format(cls_true[i], cls_pred[i])\n",
    "\n",
    "\n",
    "        # Show the classes as the label on the x-axis.\n",
    "        ax.set_xlabel(xlabel)\n",
    "        \n",
    "        # Remove ticks from the plot.\n",
    "        ax.set_xticks([])\n",
    "        ax.set_yticks([])\n",
    "    \n",
    "    # Ensure the plot is shown correctly with multiple plots\n",
    "    # in a single Notebook cell.\n",
    "    plt.show()"
   ]
  },
  {
   "cell_type": "code",
   "execution_count": 32,
   "id": "c5964e8b",
   "metadata": {},
   "outputs": [],
   "source": [
    "def plot_confusion_matrix(data_pred_cls,data_predicted_cls):\n",
    "    # This is called from print_test_accuracy() below.\n",
    "\n",
    "\n",
    "    # cls_pred is an array of the predicted class-number for\n",
    "    # all images in the test-set.\n",
    "  \n",
    "    # Get the confusion matrix using sklearn.\n",
    "    cm = confusion_matrix(y_true=data_pred_cls,\n",
    "                          y_pred=data_predicted_cls)\n",
    "\n",
    "\n",
    "    # Print the confusion matrix as text.\n",
    "    print(cm)\n",
    "\n",
    "\n",
    "    # Plot the confusion matrix as an image.\n",
    "    plt.matshow(cm)\n",
    "\n",
    "\n",
    "    # Make various adjustments to the plot.\n",
    "    plt.colorbar()\n",
    "    tick_marks = np.arange(num_classes)\n",
    "    plt.xticks(tick_marks, range(num_classes))\n",
    "    plt.yticks(tick_marks, range(num_classes))\n",
    "    plt.xlabel('Predicted')\n",
    "    plt.ylabel('True')\n",
    "\n",
    "\n",
    "    # Ensure the plot is shown correctly with multiple plots\n",
    "    # in a single Notebook cell.\n",
    "    plt.show()"
   ]
  },
  {
   "cell_type": "markdown",
   "id": "c87a21ef",
   "metadata": {},
   "source": [
    "### Prikaz rezultata"
   ]
  },
  {
   "cell_type": "code",
   "execution_count": 33,
   "id": "09736879",
   "metadata": {},
   "outputs": [
    {
     "data": {
      "image/png": "[encoded data removed]",
      "text/plain": [
       "<Figure size 432x288 with 12 Axes>"
      ]
     },
     "metadata": {},
     "output_type": "display_data"
    }
   ],
   "source": [
    "feed_dict_validation = {x: X_validation, y_true: y_validation, keep_prob_conv : 1, keep_prob_fc : 1}\n",
    "df_validation_Predicted_cls = session.run(y_pred_cls, feed_dict=feed_dict_validation)\n",
    "plot_images(images=X_validation[50:62], cls_true=df_validation_toPred_cls[50:62], cls_pred=df_validation_Predicted_cls [50:62])"
   ]
  },
  {
   "cell_type": "code",
   "execution_count": 34,
   "id": "0d982175",
   "metadata": {},
   "outputs": [
    {
     "name": "stdout",
     "output_type": "stream",
     "text": [
      "True : 7 / shih-tzu\n",
      "Pred : 7 / shih-tzu\n"
     ]
    }
   ],
   "source": [
    "i = 63\n",
    "print((\"True : {0} / {1}\").format(df_validation_toPred_cls[i], labels_name[df_validation_toPred_cls[i]]))\n",
    "print((\"Pred : {0} / {1}\").format(df_validation_Predicted_cls[i], labels_name[df_validation_Predicted_cls[i]]))\n",
    "lum = X_validation[i,:,:,:]\n",
    "plt.show()"
   ]
  },
  {
   "cell_type": "code",
   "execution_count": 35,
   "id": "4c4f2073",
   "metadata": {},
   "outputs": [
    {
     "name": "stdout",
     "output_type": "stream",
     "text": [
      "[[ 8  0  4  4  1  6  6  2]\n",
      " [ 2 18 15  1  1  0  0  2]\n",
      " [ 1  3 27  0  0  0  4  1]\n",
      " [ 3  2  1  8  3  3 11  3]\n",
      " [ 2  0  1  8  9  9  2  3]\n",
      " [ 6  1  0  3  1 17  1  0]\n",
      " [ 3  1  4  8  0  1 16  1]\n",
      " [ 3  1  4  7  4  7  5  9]]\n"
     ]
    },
    {
     "data": {
      "image/png": "[encoded data removed]",
      "text/plain": [
       "<Figure size 288x288 with 2 Axes>"
      ]
     },
     "metadata": {
      "needs_background": "light"
     },
     "output_type": "display_data"
    }
   ],
   "source": [
    "plot_confusion_matrix(df_validation_toPred_cls,df_validation_Predicted_cls)"
   ]
  },
  {
   "cell_type": "code",
   "execution_count": null,
   "id": "fc7c5691",
   "metadata": {},
   "outputs": [],
   "source": []
  }
 ],
 "metadata": {
  "kernelspec": {
   "display_name": "Python 3 (ipykernel)",
   "language": "python",
   "name": "python3"
  },
  "language_info": {
   "codemirror_mode": {
    "name": "ipython",
    "version": 3
   },
   "file_extension": ".py",
   "mimetype": "text/x-python",
   "name": "python",
   "nbconvert_exporter": "python",
   "pygments_lexer": "ipython3",
   "version": "3.9.12"
  }
 },
 "nbformat": 4,
 "nbformat_minor": 5
}
